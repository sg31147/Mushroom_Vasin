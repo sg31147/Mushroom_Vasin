{
  "nbformat": 4,
  "nbformat_minor": 0,
  "metadata": {
    "colab": {
      "provenance": [],
      "gpuType": "T4"
    },
    "kernelspec": {
      "name": "python3",
      "display_name": "Python 3"
    },
    "language_info": {
      "name": "python"
    },
    "accelerator": "GPU"
  },
  "cells": [
    {
      "cell_type": "code",
      "source": [
        "import torch\n",
        "import torch.nn as nn\n",
        "import pandas as pd\n",
        "from sklearn.model_selection import train_test_split\n",
        "from torch.autograd import Variable\n",
        "import matplotlib.pyplot as plt"
      ],
      "metadata": {
        "id": "rGjIpCN5leFZ"
      },
      "execution_count": 1,
      "outputs": []
    },
    {
      "cell_type": "code",
      "source": [
        "from google.colab import drive\n",
        "drive.mount('/content/drive')\n",
        "path ='/content/drive/MyDrive/Colab Notebooks/Courses/DP/FinalVasin/'"
      ],
      "metadata": {
        "id": "AzH8iFlpFMqW",
        "colab": {
          "base_uri": "https://localhost:8080/"
        },
        "outputId": "9f1d2319-6af6-4675-d7f6-0e2893d90419"
      },
      "execution_count": 2,
      "outputs": [
        {
          "output_type": "stream",
          "name": "stdout",
          "text": [
            "Mounted at /content/drive\n"
          ]
        }
      ]
    },
    {
      "cell_type": "code",
      "source": [
        "device = torch.device(\"cuda\" if torch.cuda.is_available() else \"cpu\")\n",
        "device"
      ],
      "metadata": {
        "id": "1F8C32Rvu2pG",
        "colab": {
          "base_uri": "https://localhost:8080/"
        },
        "outputId": "bf8c2366-50c6-42b6-bcfb-41e94037aff6"
      },
      "execution_count": 3,
      "outputs": [
        {
          "output_type": "execute_result",
          "data": {
            "text/plain": [
              "device(type='cuda')"
            ]
          },
          "metadata": {},
          "execution_count": 3
        }
      ]
    },
    {
      "cell_type": "markdown",
      "source": [
        "อันนี้ของผม ผมไม่รุ้จะ discuss อะไร   ไม่รุ้ด้วยว่าถูกไหม\n",
        "\n",
        "\n",
        "ข้อ 1 คือ มันมี W เกินมาใน Lecture แกไม่มี แต่ก็ลองนั่งสุ่มเลขดูแล้วไม่ส่งผลไร\n",
        "\n",
        "\n",
        "ข้อ 2 ผมเข้าใจว่าเอา ถ้าจัดรูปได้ family แล้ว มันจะมี parameter\n",
        "\n",
        "แต่โดยสรุปคือเหมือนเข้า function sigmoid จริงๆมันมี stat หลากหลายแบบ แต่ละแบบมันจะให้ family ต่างกัน\n",
        "ประเด็นคือ discuss ไง\n",
        "\n",
        "น่าจะมีวิชาเปิดโลก อ่านกราฟการเกาะกลุ่มข้อมูลที่ไม่ใช่เพียงแค่ 2 มิติ แต่เป็น n มิติ"
      ],
      "metadata": {
        "id": "ediitbvSLUvr"
      }
    },
    {
      "cell_type": "markdown",
      "source": [
        "##Problem1"
      ],
      "metadata": {
        "id": "xiI4I6LQE6aJ"
      }
    },
    {
      "cell_type": "code",
      "source": [
        "# Load Dataset\n",
        "data = pd.read_csv(path+'problem1_train.csv')\n",
        "X = data.iloc[:, :-1].values\n",
        "y = data.iloc[:, -1].values\n",
        "data.corr()"
      ],
      "metadata": {
        "colab": {
          "base_uri": "https://localhost:8080/",
          "height": 112
        },
        "id": "p1UlekqnNR8s",
        "outputId": "7b7714e1-ac58-4cda-c74d-e0ed9b4ddf20"
      },
      "execution_count": 4,
      "outputs": [
        {
          "output_type": "execute_result",
          "data": {
            "text/plain": [
              "          x         y\n",
              "x  1.000000  0.608303\n",
              "y  0.608303  1.000000"
            ],
            "text/html": [
              "\n",
              "  <div id=\"df-44aaacef-d817-4c3c-85f3-213d7dc58433\" class=\"colab-df-container\">\n",
              "    <div>\n",
              "<style scoped>\n",
              "    .dataframe tbody tr th:only-of-type {\n",
              "        vertical-align: middle;\n",
              "    }\n",
              "\n",
              "    .dataframe tbody tr th {\n",
              "        vertical-align: top;\n",
              "    }\n",
              "\n",
              "    .dataframe thead th {\n",
              "        text-align: right;\n",
              "    }\n",
              "</style>\n",
              "<table border=\"1\" class=\"dataframe\">\n",
              "  <thead>\n",
              "    <tr style=\"text-align: right;\">\n",
              "      <th></th>\n",
              "      <th>x</th>\n",
              "      <th>y</th>\n",
              "    </tr>\n",
              "  </thead>\n",
              "  <tbody>\n",
              "    <tr>\n",
              "      <th>x</th>\n",
              "      <td>1.000000</td>\n",
              "      <td>0.608303</td>\n",
              "    </tr>\n",
              "    <tr>\n",
              "      <th>y</th>\n",
              "      <td>0.608303</td>\n",
              "      <td>1.000000</td>\n",
              "    </tr>\n",
              "  </tbody>\n",
              "</table>\n",
              "</div>\n",
              "    <div class=\"colab-df-buttons\">\n",
              "\n",
              "  <div class=\"colab-df-container\">\n",
              "    <button class=\"colab-df-convert\" onclick=\"convertToInteractive('df-44aaacef-d817-4c3c-85f3-213d7dc58433')\"\n",
              "            title=\"Convert this dataframe to an interactive table.\"\n",
              "            style=\"display:none;\">\n",
              "\n",
              "  <svg xmlns=\"http://www.w3.org/2000/svg\" height=\"24px\" viewBox=\"0 -960 960 960\">\n",
              "    <path d=\"M120-120v-720h720v720H120Zm60-500h600v-160H180v160Zm220 220h160v-160H400v160Zm0 220h160v-160H400v160ZM180-400h160v-160H180v160Zm440 0h160v-160H620v160ZM180-180h160v-160H180v160Zm440 0h160v-160H620v160Z\"/>\n",
              "  </svg>\n",
              "    </button>\n",
              "\n",
              "  <style>\n",
              "    .colab-df-container {\n",
              "      display:flex;\n",
              "      gap: 12px;\n",
              "    }\n",
              "\n",
              "    .colab-df-convert {\n",
              "      background-color: #E8F0FE;\n",
              "      border: none;\n",
              "      border-radius: 50%;\n",
              "      cursor: pointer;\n",
              "      display: none;\n",
              "      fill: #1967D2;\n",
              "      height: 32px;\n",
              "      padding: 0 0 0 0;\n",
              "      width: 32px;\n",
              "    }\n",
              "\n",
              "    .colab-df-convert:hover {\n",
              "      background-color: #E2EBFA;\n",
              "      box-shadow: 0px 1px 2px rgba(60, 64, 67, 0.3), 0px 1px 3px 1px rgba(60, 64, 67, 0.15);\n",
              "      fill: #174EA6;\n",
              "    }\n",
              "\n",
              "    .colab-df-buttons div {\n",
              "      margin-bottom: 4px;\n",
              "    }\n",
              "\n",
              "    [theme=dark] .colab-df-convert {\n",
              "      background-color: #3B4455;\n",
              "      fill: #D2E3FC;\n",
              "    }\n",
              "\n",
              "    [theme=dark] .colab-df-convert:hover {\n",
              "      background-color: #434B5C;\n",
              "      box-shadow: 0px 1px 3px 1px rgba(0, 0, 0, 0.15);\n",
              "      filter: drop-shadow(0px 1px 2px rgba(0, 0, 0, 0.3));\n",
              "      fill: #FFFFFF;\n",
              "    }\n",
              "  </style>\n",
              "\n",
              "    <script>\n",
              "      const buttonEl =\n",
              "        document.querySelector('#df-44aaacef-d817-4c3c-85f3-213d7dc58433 button.colab-df-convert');\n",
              "      buttonEl.style.display =\n",
              "        google.colab.kernel.accessAllowed ? 'block' : 'none';\n",
              "\n",
              "      async function convertToInteractive(key) {\n",
              "        const element = document.querySelector('#df-44aaacef-d817-4c3c-85f3-213d7dc58433');\n",
              "        const dataTable =\n",
              "          await google.colab.kernel.invokeFunction('convertToInteractive',\n",
              "                                                    [key], {});\n",
              "        if (!dataTable) return;\n",
              "\n",
              "        const docLinkHtml = 'Like what you see? Visit the ' +\n",
              "          '<a target=\"_blank\" href=https://colab.research.google.com/notebooks/data_table.ipynb>data table notebook</a>'\n",
              "          + ' to learn more about interactive tables.';\n",
              "        element.innerHTML = '';\n",
              "        dataTable['output_type'] = 'display_data';\n",
              "        await google.colab.output.renderOutput(dataTable, element);\n",
              "        const docLink = document.createElement('div');\n",
              "        docLink.innerHTML = docLinkHtml;\n",
              "        element.appendChild(docLink);\n",
              "      }\n",
              "    </script>\n",
              "  </div>\n",
              "\n",
              "\n",
              "<div id=\"df-2d01df8c-8805-4683-a94c-1972394ee734\">\n",
              "  <button class=\"colab-df-quickchart\" onclick=\"quickchart('df-2d01df8c-8805-4683-a94c-1972394ee734')\"\n",
              "            title=\"Suggest charts\"\n",
              "            style=\"display:none;\">\n",
              "\n",
              "<svg xmlns=\"http://www.w3.org/2000/svg\" height=\"24px\"viewBox=\"0 0 24 24\"\n",
              "     width=\"24px\">\n",
              "    <g>\n",
              "        <path d=\"M19 3H5c-1.1 0-2 .9-2 2v14c0 1.1.9 2 2 2h14c1.1 0 2-.9 2-2V5c0-1.1-.9-2-2-2zM9 17H7v-7h2v7zm4 0h-2V7h2v10zm4 0h-2v-4h2v4z\"/>\n",
              "    </g>\n",
              "</svg>\n",
              "  </button>\n",
              "\n",
              "<style>\n",
              "  .colab-df-quickchart {\n",
              "      --bg-color: #E8F0FE;\n",
              "      --fill-color: #1967D2;\n",
              "      --hover-bg-color: #E2EBFA;\n",
              "      --hover-fill-color: #174EA6;\n",
              "      --disabled-fill-color: #AAA;\n",
              "      --disabled-bg-color: #DDD;\n",
              "  }\n",
              "\n",
              "  [theme=dark] .colab-df-quickchart {\n",
              "      --bg-color: #3B4455;\n",
              "      --fill-color: #D2E3FC;\n",
              "      --hover-bg-color: #434B5C;\n",
              "      --hover-fill-color: #FFFFFF;\n",
              "      --disabled-bg-color: #3B4455;\n",
              "      --disabled-fill-color: #666;\n",
              "  }\n",
              "\n",
              "  .colab-df-quickchart {\n",
              "    background-color: var(--bg-color);\n",
              "    border: none;\n",
              "    border-radius: 50%;\n",
              "    cursor: pointer;\n",
              "    display: none;\n",
              "    fill: var(--fill-color);\n",
              "    height: 32px;\n",
              "    padding: 0;\n",
              "    width: 32px;\n",
              "  }\n",
              "\n",
              "  .colab-df-quickchart:hover {\n",
              "    background-color: var(--hover-bg-color);\n",
              "    box-shadow: 0 1px 2px rgba(60, 64, 67, 0.3), 0 1px 3px 1px rgba(60, 64, 67, 0.15);\n",
              "    fill: var(--button-hover-fill-color);\n",
              "  }\n",
              "\n",
              "  .colab-df-quickchart-complete:disabled,\n",
              "  .colab-df-quickchart-complete:disabled:hover {\n",
              "    background-color: var(--disabled-bg-color);\n",
              "    fill: var(--disabled-fill-color);\n",
              "    box-shadow: none;\n",
              "  }\n",
              "\n",
              "  .colab-df-spinner {\n",
              "    border: 2px solid var(--fill-color);\n",
              "    border-color: transparent;\n",
              "    border-bottom-color: var(--fill-color);\n",
              "    animation:\n",
              "      spin 1s steps(1) infinite;\n",
              "  }\n",
              "\n",
              "  @keyframes spin {\n",
              "    0% {\n",
              "      border-color: transparent;\n",
              "      border-bottom-color: var(--fill-color);\n",
              "      border-left-color: var(--fill-color);\n",
              "    }\n",
              "    20% {\n",
              "      border-color: transparent;\n",
              "      border-left-color: var(--fill-color);\n",
              "      border-top-color: var(--fill-color);\n",
              "    }\n",
              "    30% {\n",
              "      border-color: transparent;\n",
              "      border-left-color: var(--fill-color);\n",
              "      border-top-color: var(--fill-color);\n",
              "      border-right-color: var(--fill-color);\n",
              "    }\n",
              "    40% {\n",
              "      border-color: transparent;\n",
              "      border-right-color: var(--fill-color);\n",
              "      border-top-color: var(--fill-color);\n",
              "    }\n",
              "    60% {\n",
              "      border-color: transparent;\n",
              "      border-right-color: var(--fill-color);\n",
              "    }\n",
              "    80% {\n",
              "      border-color: transparent;\n",
              "      border-right-color: var(--fill-color);\n",
              "      border-bottom-color: var(--fill-color);\n",
              "    }\n",
              "    90% {\n",
              "      border-color: transparent;\n",
              "      border-bottom-color: var(--fill-color);\n",
              "    }\n",
              "  }\n",
              "</style>\n",
              "\n",
              "  <script>\n",
              "    async function quickchart(key) {\n",
              "      const quickchartButtonEl =\n",
              "        document.querySelector('#' + key + ' button');\n",
              "      quickchartButtonEl.disabled = true;  // To prevent multiple clicks.\n",
              "      quickchartButtonEl.classList.add('colab-df-spinner');\n",
              "      try {\n",
              "        const charts = await google.colab.kernel.invokeFunction(\n",
              "            'suggestCharts', [key], {});\n",
              "      } catch (error) {\n",
              "        console.error('Error during call to suggestCharts:', error);\n",
              "      }\n",
              "      quickchartButtonEl.classList.remove('colab-df-spinner');\n",
              "      quickchartButtonEl.classList.add('colab-df-quickchart-complete');\n",
              "    }\n",
              "    (() => {\n",
              "      let quickchartButtonEl =\n",
              "        document.querySelector('#df-2d01df8c-8805-4683-a94c-1972394ee734 button');\n",
              "      quickchartButtonEl.style.display =\n",
              "        google.colab.kernel.accessAllowed ? 'block' : 'none';\n",
              "    })();\n",
              "  </script>\n",
              "</div>\n",
              "    </div>\n",
              "  </div>\n"
            ]
          },
          "metadata": {},
          "execution_count": 4
        }
      ]
    },
    {
      "cell_type": "code",
      "source": [
        "# Convert to tensors\n",
        "X_tensor = torch.tensor(X, dtype=torch.float32)\n",
        "y_tensor = torch.tensor(y, dtype=torch.float32).view(-1, 1)"
      ],
      "metadata": {
        "id": "2VYhV_2INaMV"
      },
      "execution_count": 5,
      "outputs": []
    },
    {
      "cell_type": "code",
      "source": [
        "# Split Dataset\n",
        "X_train, X_test, y_train, y_test = train_test_split(X_tensor, y_tensor, test_size=0.2, random_state=42)"
      ],
      "metadata": {
        "id": "Sbt1ddy2Nb9k"
      },
      "execution_count": 6,
      "outputs": []
    },
    {
      "cell_type": "code",
      "source": [
        "plt.scatter(X_train, y_train, color = 'r', label = 'Train')\n",
        "plt.scatter(X_test, y_test, color = 'b', label = 'Test')\n",
        "plt.legend()\n",
        "plt.show()"
      ],
      "metadata": {
        "colab": {
          "base_uri": "https://localhost:8080/",
          "height": 430
        },
        "id": "JgnyS4lbR2S1",
        "outputId": "936fea41-e5b4-4f4f-86d7-932d6ad0673d"
      },
      "execution_count": 7,
      "outputs": [
        {
          "output_type": "display_data",
          "data": {
            "text/plain": [
              "<Figure size 640x480 with 1 Axes>"
            ],
            "image/png": "[encoded data removed]"
          },
          "metadata": {}
        }
      ]
    },
    {
      "cell_type": "code",
      "source": [
        "# Define Linear Regression Model\n",
        "class LinearRegressionModel(nn.Module):\n",
        "    def __init__(self, input_dim):\n",
        "        super(LinearRegressionModel, self).__init__()\n",
        "        self.linear = nn.Linear(input_dim, 1)\n",
        "\n",
        "    def forward(self, x):\n",
        "        return self.linear(x)"
      ],
      "metadata": {
        "id": "FtYjGHgGNeU9"
      },
      "execution_count": 8,
      "outputs": []
    },
    {
      "cell_type": "code",
      "source": [
        "# Weights (example values, you need to define these)\n",
        "\n",
        "# Custom Loss Function\n",
        "def custom_loss(output, target, weights):\n",
        "    loss = torch.sum(weights * (output - target) ** 2)\n",
        "    return loss / (2 * target.size(0))"
      ],
      "metadata": {
        "id": "mHrEw112NpM-"
      },
      "execution_count": 9,
      "outputs": []
    },
    {
      "cell_type": "code",
      "source": [
        "# Initialize model\n",
        "model = LinearRegressionModel(X_train.shape[1])"
      ],
      "metadata": {
        "id": "9tj0pebGSoXq"
      },
      "execution_count": 10,
      "outputs": []
    },
    {
      "cell_type": "code",
      "source": [
        "# Weights (example values, you need to define these)\n",
        "weights = torch.ones(y_train.size())*2\n",
        "\n",
        "# Optimizer\n",
        "optimizer = torch.optim.SGD(model.parameters(), lr=0.001)\n",
        "\n",
        "\n",
        "# Training Loop\n",
        "num_epochs=10000\n",
        "for epoch in range(num_epochs):\n",
        "    # Forward pass\n",
        "    outputs = model(X_train)\n",
        "\n",
        "    loss = custom_loss(outputs, y_train, weights)\n",
        "\n",
        "    # Backward and optimize\n",
        "    optimizer.zero_grad()\n",
        "    loss.backward()\n",
        "    optimizer.step()\n",
        "\n",
        "\n",
        "    #print(f'Epoch [{epoch+1}/{num_epochs}], Loss: {loss.item():.4f}')\n",
        "\n",
        "# Testing and RMSE Calculation\n",
        "model.eval()\n",
        "with torch.no_grad():\n",
        "    predictions = model(X_test)\n",
        "    rmse = torch.sqrt(torch.mean((predictions - y_test) ** 2))\n",
        "    print(f'RMSE: {rmse.item()}')\n",
        "\n",
        "plt.scatter(X_test, y_test, color = 'b', label = 'Test data')\n",
        "with torch.no_grad():\n",
        "  plt.scatter(X_test, model(X_test), color = 'r', label = 'Predicted')\n",
        "plt.legend()\n",
        "plt.show()"
      ],
      "metadata": {
        "colab": {
          "base_uri": "https://localhost:8080/",
          "height": 447
        },
        "id": "SzJv5gc1NLqt",
        "outputId": "3d62de84-eecc-4abd-85c5-7af3b58ad7bb"
      },
      "execution_count": 11,
      "outputs": [
        {
          "output_type": "stream",
          "name": "stdout",
          "text": [
            "RMSE: 0.8993480801582336\n"
          ]
        },
        {
          "output_type": "display_data",
          "data": {
            "text/plain": [
              "<Figure size 640x480 with 1 Axes>"
            ],
            "image/png": "[encoded data removed]"
          },
          "metadata": {}
        }
      ]
    },
    {
      "cell_type": "markdown",
      "source": [
        "##UNDERFIT\n",
        "ไม่ควรใช้ linearmodel ในการใช้งานตอบโจทย์ปัญหานี้"
      ],
      "metadata": {
        "id": "jPUePbkSbzV4"
      }
    },
    {
      "cell_type": "markdown",
      "source": [
        "จากการวิเคราะห์ภาพ, ดูเหมือนว่าโมเดลมีความแม่นยำในการทำนายค่าที่ใกล้เคียงกับเส้นแนวโน้ม (trend line) ของข้อมูลจริง (สีน้ำเงิน) ในบางส่วนของชุดข้อมูล. อย่างไรก็ตาม, ยังมีจุดที่โมเดลทำนายได้ไม่แม่นยำซึ่งห่างไกลจากจุดข้อมูลจริง, โดยเฉพาะในช่วงที่ค่า X มีค่าติดลบ. ความแตกต่างระหว่างค่าทำนายและค่าจริงนี้อาจบ่งบอกถึงความแปรปรวน (variance) และความคลาดเคลื่อน (bias) ของโมเดล.\n",
        "\n",
        "การที่จุดสีแดง (ทำนาย) ตั้งอยู่บนเส้นตรงเดียวกันอาจบ่งบอกว่าโมเดลได้เรียนรู้เพียงแนวโน้มเชิงเส้นซึ่งไม่สามารถจับคู่กับความซับซ้อนหรือความผันแปรในข้อมูลจริงได้เต็มที่. นี่อาจเป็นการบ่งชี้ว่าโมเดลต้องการการปรับแต่งเพิ่มเติม เช่น การเพิ่มความซับซ้อนให้กับโมเดลหรือการใช้โมเดลที่มีความซับซ้อนมากกว่า, การปรับพารามิเตอร์, หรือการใช้คุณสมบัติเพิ่มเติมที่อาจช่วยให้โมเดลสามารถจับคู่กับข้อมูลที่มีความซับซ้อนได้ดีขึ้น.\n",
        "\n",
        "\n",
        "การเกิด underfit data เกิดขึ้นเมื่อโมเดลการเรียนรู้ (machine learning model) ไม่สามารถจับคุณลักษณะหรือโครงสร้างในข้อมูลอย่างที่ควรจะทำได้ ซึ่งสามารถเกิดขึ้นได้จากหลายปัจจัยต่าง ๆ ดังนี้:\n",
        "\n",
        "1. การเลือกโมเดลที่ไม่เหมาะสม: การเลือกโมเดลที่ไม่เหมาะสมสำหรับปัญหาหรือข้อมูลที่มีอาการซับซ้อน เช่น การใช้โมเดลที่เรียนรู้เชิงเส้น (linear model) ในข้อมูลที่มีความซับซ้อนมาก ๆ อาจทำให้เกิด underfitting ได้.\n",
        "\n",
        "2. ข้อมูลที่ไม่เพียงพอ: การใช้ข้อมูลที่มีจำนวนน้อยหรือข้อมูลที่ไม่เพียงพอสำหรับการเรียนรู้โมเดล อาจทำให้โมเดลไม่สามารถจับคุณลักษณะของข้อมูลได้อย่างถูกต้อง ซึ่งส่งผลให้เกิด underfitting.\n",
        "\n",
        "3. การลดมิติ: การลดมิติของข้อมูลโดยใช้เทคนิคเช่น PCA (Principal Component Analysis) หรือการลดข้อมูลของข้อมูลเหล่านั้นอาจทำให้ข้อมูลที่เหลือน้อยเกินไปสำหรับโมเดลที่ใช้ เป็นตัวเป็นปัจจัยที่ทำให้เกิด underfitting.\n",
        "\n",
        "4. การปรับพารามิเตอร์ไม่ถูกต้อง: การปรับค่าพารามิเตอร์ของโมเดลไม่ถูกต้องหรือไม่เหมาะสมอาจทำให้เกิด underfitting ได้ เช่น การกำหนด learning rate ของอัลกอริทึมการเรียนรู้ (learning algorithm) ได้ไม่ถูกต้อง.\n",
        "\n",
        "5. การเลือกคุณลักษณะ (feature selection): การเลือกคุณลักษณะที่ไม่เหมาะสมหรือไม่เพียงพอสำหรับการแบ่งแยกข้อมูลอาจทำให้เกิด underfitting.\n",
        "\n",
        "6. การตั้งค่าข้อจำกัด (constraints) บนโมเดล: การใส่ข้อจำกัดที่มากเกินไปบนโมเดลอาจทำให้โมเดลไม่สามารถหาความสัมพันธ์ในข้อมูลได้อย่างเต็มที่ และสร้างปัญหา underfitting.\n",
        "\n",
        "การแก้ไข underfitting สามารถทำได้โดยการเลือกโมเดลที่เหมาะสมมากขึ้น, การเพิ่มข้อมูล, การเพิ่มความซับซ้อนให้กับโมเดล, การปรับค่าพารามิเตอร์ให้เหมาะสมมากขึ้น, หรือการใช้เทคนิคการลบข้อมูลผิดปกติ (outlier) หรือข้อมูลที่ไม่เกี่ยวข้องออกจากชุดข้อมูล เพื่อช่วยลดปัญหา underfitting ได้ในบางกรณีด้วย."
      ],
      "metadata": {
        "id": "m8Plme_gbyA4"
      }
    },
    {
      "cell_type": "markdown",
      "source": [
        "##problem 2"
      ],
      "metadata": {
        "id": "4EtUOKc4GlX1"
      }
    },
    {
      "cell_type": "markdown",
      "source": [
        "https://people.eecs.berkeley.edu/~jordan/courses/260-spring10/other-readings/chapter8.pdf"
      ],
      "metadata": {
        "id": "kXHb1kt7oY45"
      }
    },
    {
      "cell_type": "markdown",
      "source": [
        "$$\n",
        "p(x;η)=b(x) \\exp\\left( \\eta(\\theta) T(x) - a(η) \\right)\n",
        "$$"
      ],
      "metadata": {
        "id": "cYwsxb5MsBNJ"
      }
    },
    {
      "cell_type": "markdown",
      "source": [
        "$$\n",
        "p(x | λ) = \\frac{λ^x e^{-λ}}{x!}\n",
        "$$\n",
        "\n",
        "$$\n",
        "p(x | \\lambda) = \\frac{1}{x!} e^{x\\log(\\lambda) - \\lambda}\n",
        "$$\n",
        "\n",
        "$$\n",
        "\\eta = \\log(\\lambda)\n",
        "$$\n",
        "\n",
        "$$\n",
        "T(x) = x\n",
        "$$\n",
        "\n",
        "$$\n",
        "a(\\eta) = \\lambda = e^\\eta\n",
        "$$\n",
        "\n",
        "$$\n",
        "h(x) = \\frac{1}{x!}\n",
        "$$\n",
        "\n",
        "$$\n",
        "\\lambda = e^\\eta\n",
        "$$"
      ],
      "metadata": {
        "id": "NnXId92bhQaN"
      }
    },
    {
      "cell_type": "markdown",
      "source": [
        "ถ้าดูจากรูปแล้วคือเราจะทำคล้ายๆกับตัว sigmoid คือยัดตัว etha ด้วยสมการ linear ลงไปมั้ง"
      ],
      "metadata": {
        "id": "CIDeFgX-L5HF"
      }
    },
    {
      "cell_type": "code",
      "source": [
        "from sklearn.metrics import mean_squared_error\n",
        "import torch.optim as optim\n",
        "import numpy as np"
      ],
      "metadata": {
        "id": "m4BcMhGXcjET"
      },
      "execution_count": 12,
      "outputs": []
    },
    {
      "cell_type": "code",
      "source": [
        "# Load the dataset\n",
        "file_path_new = path+'problem2_train.csv'\n",
        "data_new = pd.read_csv(file_path_new)\n",
        "data_new.corr()"
      ],
      "metadata": {
        "colab": {
          "base_uri": "https://localhost:8080/",
          "height": 175
        },
        "id": "OhHDFnAscI3y",
        "outputId": "2bc4e75c-b852-4bcc-c459-65ff17c3c646"
      },
      "execution_count": 13,
      "outputs": [
        {
          "output_type": "execute_result",
          "data": {
            "text/plain": [
              "          x1        x2        x3         y\n",
              "x1  1.000000  0.009562  0.050032 -0.348278\n",
              "x2  0.009562  1.000000 -0.019324  0.423420\n",
              "x3  0.050032 -0.019324  1.000000 -0.562637\n",
              "y  -0.348278  0.423420 -0.562637  1.000000"
            ],
            "text/html": [
              "\n",
              "  <div id=\"df-671ce136-5950-4241-bebd-693440a056a3\" class=\"colab-df-container\">\n",
              "    <div>\n",
              "<style scoped>\n",
              "    .dataframe tbody tr th:only-of-type {\n",
              "        vertical-align: middle;\n",
              "    }\n",
              "\n",
              "    .dataframe tbody tr th {\n",
              "        vertical-align: top;\n",
              "    }\n",
              "\n",
              "    .dataframe thead th {\n",
              "        text-align: right;\n",
              "    }\n",
              "</style>\n",
              "<table border=\"1\" class=\"dataframe\">\n",
              "  <thead>\n",
              "    <tr style=\"text-align: right;\">\n",
              "      <th></th>\n",
              "      <th>x1</th>\n",
              "      <th>x2</th>\n",
              "      <th>x3</th>\n",
              "      <th>y</th>\n",
              "    </tr>\n",
              "  </thead>\n",
              "  <tbody>\n",
              "    <tr>\n",
              "      <th>x1</th>\n",
              "      <td>1.000000</td>\n",
              "      <td>0.009562</td>\n",
              "      <td>0.050032</td>\n",
              "      <td>-0.348278</td>\n",
              "    </tr>\n",
              "    <tr>\n",
              "      <th>x2</th>\n",
              "      <td>0.009562</td>\n",
              "      <td>1.000000</td>\n",
              "      <td>-0.019324</td>\n",
              "      <td>0.423420</td>\n",
              "    </tr>\n",
              "    <tr>\n",
              "      <th>x3</th>\n",
              "      <td>0.050032</td>\n",
              "      <td>-0.019324</td>\n",
              "      <td>1.000000</td>\n",
              "      <td>-0.562637</td>\n",
              "    </tr>\n",
              "    <tr>\n",
              "      <th>y</th>\n",
              "      <td>-0.348278</td>\n",
              "      <td>0.423420</td>\n",
              "      <td>-0.562637</td>\n",
              "      <td>1.000000</td>\n",
              "    </tr>\n",
              "  </tbody>\n",
              "</table>\n",
              "</div>\n",
              "    <div class=\"colab-df-buttons\">\n",
              "\n",
              "  <div class=\"colab-df-container\">\n",
              "    <button class=\"colab-df-convert\" onclick=\"convertToInteractive('df-671ce136-5950-4241-bebd-693440a056a3')\"\n",
              "            title=\"Convert this dataframe to an interactive table.\"\n",
              "            style=\"display:none;\">\n",
              "\n",
              "  <svg xmlns=\"http://www.w3.org/2000/svg\" height=\"24px\" viewBox=\"0 -960 960 960\">\n",
              "    <path d=\"M120-120v-720h720v720H120Zm60-500h600v-160H180v160Zm220 220h160v-160H400v160Zm0 220h160v-160H400v160ZM180-400h160v-160H180v160Zm440 0h160v-160H620v160ZM180-180h160v-160H180v160Zm440 0h160v-160H620v160Z\"/>\n",
              "  </svg>\n",
              "    </button>\n",
              "\n",
              "  <style>\n",
              "    .colab-df-container {\n",
              "      display:flex;\n",
              "      gap: 12px;\n",
              "    }\n",
              "\n",
              "    .colab-df-convert {\n",
              "      background-color: #E8F0FE;\n",
              "      border: none;\n",
              "      border-radius: 50%;\n",
              "      cursor: pointer;\n",
              "      display: none;\n",
              "      fill: #1967D2;\n",
              "      height: 32px;\n",
              "      padding: 0 0 0 0;\n",
              "      width: 32px;\n",
              "    }\n",
              "\n",
              "    .colab-df-convert:hover {\n",
              "      background-color: #E2EBFA;\n",
              "      box-shadow: 0px 1px 2px rgba(60, 64, 67, 0.3), 0px 1px 3px 1px rgba(60, 64, 67, 0.15);\n",
              "      fill: #174EA6;\n",
              "    }\n",
              "\n",
              "    .colab-df-buttons div {\n",
              "      margin-bottom: 4px;\n",
              "    }\n",
              "\n",
              "    [theme=dark] .colab-df-convert {\n",
              "      background-color: #3B4455;\n",
              "      fill: #D2E3FC;\n",
              "    }\n",
              "\n",
              "    [theme=dark] .colab-df-convert:hover {\n",
              "      background-color: #434B5C;\n",
              "      box-shadow: 0px 1px 3px 1px rgba(0, 0, 0, 0.15);\n",
              "      filter: drop-shadow(0px 1px 2px rgba(0, 0, 0, 0.3));\n",
              "      fill: #FFFFFF;\n",
              "    }\n",
              "  </style>\n",
              "\n",
              "    <script>\n",
              "      const buttonEl =\n",
              "        document.querySelector('#df-671ce136-5950-4241-bebd-693440a056a3 button.colab-df-convert');\n",
              "      buttonEl.style.display =\n",
              "        google.colab.kernel.accessAllowed ? 'block' : 'none';\n",
              "\n",
              "      async function convertToInteractive(key) {\n",
              "        const element = document.querySelector('#df-671ce136-5950-4241-bebd-693440a056a3');\n",
              "        const dataTable =\n",
              "          await google.colab.kernel.invokeFunction('convertToInteractive',\n",
              "                                                    [key], {});\n",
              "        if (!dataTable) return;\n",
              "\n",
              "        const docLinkHtml = 'Like what you see? Visit the ' +\n",
              "          '<a target=\"_blank\" href=https://colab.research.google.com/notebooks/data_table.ipynb>data table notebook</a>'\n",
              "          + ' to learn more about interactive tables.';\n",
              "        element.innerHTML = '';\n",
              "        dataTable['output_type'] = 'display_data';\n",
              "        await google.colab.output.renderOutput(dataTable, element);\n",
              "        const docLink = document.createElement('div');\n",
              "        docLink.innerHTML = docLinkHtml;\n",
              "        element.appendChild(docLink);\n",
              "      }\n",
              "    </script>\n",
              "  </div>\n",
              "\n",
              "\n",
              "<div id=\"df-aeaba4d0-16ea-4569-8269-422101190a99\">\n",
              "  <button class=\"colab-df-quickchart\" onclick=\"quickchart('df-aeaba4d0-16ea-4569-8269-422101190a99')\"\n",
              "            title=\"Suggest charts\"\n",
              "            style=\"display:none;\">\n",
              "\n",
              "<svg xmlns=\"http://www.w3.org/2000/svg\" height=\"24px\"viewBox=\"0 0 24 24\"\n",
              "     width=\"24px\">\n",
              "    <g>\n",
              "        <path d=\"M19 3H5c-1.1 0-2 .9-2 2v14c0 1.1.9 2 2 2h14c1.1 0 2-.9 2-2V5c0-1.1-.9-2-2-2zM9 17H7v-7h2v7zm4 0h-2V7h2v10zm4 0h-2v-4h2v4z\"/>\n",
              "    </g>\n",
              "</svg>\n",
              "  </button>\n",
              "\n",
              "<style>\n",
              "  .colab-df-quickchart {\n",
              "      --bg-color: #E8F0FE;\n",
              "      --fill-color: #1967D2;\n",
              "      --hover-bg-color: #E2EBFA;\n",
              "      --hover-fill-color: #174EA6;\n",
              "      --disabled-fill-color: #AAA;\n",
              "      --disabled-bg-color: #DDD;\n",
              "  }\n",
              "\n",
              "  [theme=dark] .colab-df-quickchart {\n",
              "      --bg-color: #3B4455;\n",
              "      --fill-color: #D2E3FC;\n",
              "      --hover-bg-color: #434B5C;\n",
              "      --hover-fill-color: #FFFFFF;\n",
              "      --disabled-bg-color: #3B4455;\n",
              "      --disabled-fill-color: #666;\n",
              "  }\n",
              "\n",
              "  .colab-df-quickchart {\n",
              "    background-color: var(--bg-color);\n",
              "    border: none;\n",
              "    border-radius: 50%;\n",
              "    cursor: pointer;\n",
              "    display: none;\n",
              "    fill: var(--fill-color);\n",
              "    height: 32px;\n",
              "    padding: 0;\n",
              "    width: 32px;\n",
              "  }\n",
              "\n",
              "  .colab-df-quickchart:hover {\n",
              "    background-color: var(--hover-bg-color);\n",
              "    box-shadow: 0 1px 2px rgba(60, 64, 67, 0.3), 0 1px 3px 1px rgba(60, 64, 67, 0.15);\n",
              "    fill: var(--button-hover-fill-color);\n",
              "  }\n",
              "\n",
              "  .colab-df-quickchart-complete:disabled,\n",
              "  .colab-df-quickchart-complete:disabled:hover {\n",
              "    background-color: var(--disabled-bg-color);\n",
              "    fill: var(--disabled-fill-color);\n",
              "    box-shadow: none;\n",
              "  }\n",
              "\n",
              "  .colab-df-spinner {\n",
              "    border: 2px solid var(--fill-color);\n",
              "    border-color: transparent;\n",
              "    border-bottom-color: var(--fill-color);\n",
              "    animation:\n",
              "      spin 1s steps(1) infinite;\n",
              "  }\n",
              "\n",
              "  @keyframes spin {\n",
              "    0% {\n",
              "      border-color: transparent;\n",
              "      border-bottom-color: var(--fill-color);\n",
              "      border-left-color: var(--fill-color);\n",
              "    }\n",
              "    20% {\n",
              "      border-color: transparent;\n",
              "      border-left-color: var(--fill-color);\n",
              "      border-top-color: var(--fill-color);\n",
              "    }\n",
              "    30% {\n",
              "      border-color: transparent;\n",
              "      border-left-color: var(--fill-color);\n",
              "      border-top-color: var(--fill-color);\n",
              "      border-right-color: var(--fill-color);\n",
              "    }\n",
              "    40% {\n",
              "      border-color: transparent;\n",
              "      border-right-color: var(--fill-color);\n",
              "      border-top-color: var(--fill-color);\n",
              "    }\n",
              "    60% {\n",
              "      border-color: transparent;\n",
              "      border-right-color: var(--fill-color);\n",
              "    }\n",
              "    80% {\n",
              "      border-color: transparent;\n",
              "      border-right-color: var(--fill-color);\n",
              "      border-bottom-color: var(--fill-color);\n",
              "    }\n",
              "    90% {\n",
              "      border-color: transparent;\n",
              "      border-bottom-color: var(--fill-color);\n",
              "    }\n",
              "  }\n",
              "</style>\n",
              "\n",
              "  <script>\n",
              "    async function quickchart(key) {\n",
              "      const quickchartButtonEl =\n",
              "        document.querySelector('#' + key + ' button');\n",
              "      quickchartButtonEl.disabled = true;  // To prevent multiple clicks.\n",
              "      quickchartButtonEl.classList.add('colab-df-spinner');\n",
              "      try {\n",
              "        const charts = await google.colab.kernel.invokeFunction(\n",
              "            'suggestCharts', [key], {});\n",
              "      } catch (error) {\n",
              "        console.error('Error during call to suggestCharts:', error);\n",
              "      }\n",
              "      quickchartButtonEl.classList.remove('colab-df-spinner');\n",
              "      quickchartButtonEl.classList.add('colab-df-quickchart-complete');\n",
              "    }\n",
              "    (() => {\n",
              "      let quickchartButtonEl =\n",
              "        document.querySelector('#df-aeaba4d0-16ea-4569-8269-422101190a99 button');\n",
              "      quickchartButtonEl.style.display =\n",
              "        google.colab.kernel.accessAllowed ? 'block' : 'none';\n",
              "    })();\n",
              "  </script>\n",
              "</div>\n",
              "    </div>\n",
              "  </div>\n"
            ]
          },
          "metadata": {},
          "execution_count": 13
        }
      ]
    },
    {
      "cell_type": "code",
      "source": [
        "\n",
        "# Splitting the dataset into training and testing sets\n",
        "X = data_new[['x1', 'x2', 'x3']]\n",
        "y = data_new['y']\n",
        "X_train, X_test, y_train, y_test = train_test_split(X, y, test_size=0.3, random_state=42)\n",
        "y"
      ],
      "metadata": {
        "colab": {
          "base_uri": "https://localhost:8080/"
        },
        "id": "2LpGqGUMcK63",
        "outputId": "2c296b67-e10b-4e08-c515-e9d550b6bd5a"
      },
      "execution_count": 14,
      "outputs": [
        {
          "output_type": "execute_result",
          "data": {
            "text/plain": [
              "0       8.0\n",
              "1       1.0\n",
              "2       8.0\n",
              "3       3.0\n",
              "4      10.0\n",
              "       ... \n",
              "485     3.0\n",
              "486     2.0\n",
              "487     0.0\n",
              "488     0.0\n",
              "489     1.0\n",
              "Name: y, Length: 490, dtype: float64"
            ]
          },
          "metadata": {},
          "execution_count": 14
        }
      ]
    },
    {
      "cell_type": "code",
      "source": [
        "# Create scatter plots for each pair of features against the target variable\n",
        "for feature in X:\n",
        "    plt.scatter(X[feature],y, label=feature)\n",
        "\n",
        "# Add labels and legend\n",
        "plt.xlabel('Features')\n",
        "plt.ylabel('1Y')\n",
        "plt.legend()\n",
        "\n",
        "# Show the plot\n",
        "plt.show()"
      ],
      "metadata": {
        "colab": {
          "base_uri": "https://localhost:8080/",
          "height": 449
        },
        "id": "uwnAEBn4epal",
        "outputId": "df5670fc-3e2b-403c-c2c7-12401536ab44"
      },
      "execution_count": 15,
      "outputs": [
        {
          "output_type": "display_data",
          "data": {
            "text/plain": [
              "<Figure size 640x480 with 1 Axes>"
            ],
            "image/png": "[encoded data removed]"
          },
          "metadata": {}
        }
      ]
    },
    {
      "cell_type": "code",
      "source": [
        "# Converting to PyTorch tensors\n",
        "X_train = torch.tensor(X_train.values, dtype=torch.float32)\n",
        "y_train = torch.tensor(y_train.values, dtype=torch.float32).view(-1, 1)\n",
        "X_test = torch.tensor(X_test.values, dtype=torch.float32)\n",
        "y_test = torch.tensor(y_test.values, dtype=torch.float32).view(-1, 1)\n"
      ],
      "metadata": {
        "id": "VFy0Wg6UcRH2"
      },
      "execution_count": 16,
      "outputs": []
    },
    {
      "cell_type": "code",
      "source": [
        "# Defining the Poisson GLM model\n",
        "class PoissonGLM(nn.Module):\n",
        "    def __init__(self, input_size):\n",
        "        super(PoissonGLM, self).__init__()\n",
        "        self.linear = nn.Linear(input_size, 1)\n",
        "\n",
        "    def forward(self, x):\n",
        "        # Applying the exponential function to ensure the output is non-negative\n",
        "        return torch.exp(self.linear(x))"
      ],
      "metadata": {
        "id": "I2mr_jJgcGNj"
      },
      "execution_count": 17,
      "outputs": []
    },
    {
      "cell_type": "code",
      "source": [
        "# Define the model\n",
        "\n",
        "model = PoissonGLM(input_size=3)"
      ],
      "metadata": {
        "id": "emLWWBgmcNRm"
      },
      "execution_count": 18,
      "outputs": []
    },
    {
      "cell_type": "code",
      "source": [
        "# Loss and optimizer\n",
        "criterion = nn.MSELoss()  # Mean Squared Error Loss\n",
        "optimizer = optim.SGD(model.parameters(), lr=0.00001)  # Stochastic Gradient Descent\n",
        "\n",
        "\n",
        "\n",
        "# Training the model\n",
        "num_epochs = 10000\n",
        "for epoch in range(num_epochs):\n",
        "    # Forward pass\n",
        "    pred_y = model(X_train)\n",
        "\n",
        "    # Compute and print loss\n",
        "    loss = criterion(pred_y, y_train)\n",
        "\n",
        "    # Zero gradients, perform a backward pass, and update the weights.\n",
        "    optimizer.zero_grad()\n",
        "    loss.backward()\n",
        "    optimizer.step()\n",
        "\n",
        "    if (epoch+1) % 100 == 0:\n",
        "        print(f'Epoch [{epoch+1}/{num_epochs}], Loss: {loss.item():.4f}')\n",
        "\n",
        "# Testing the model\n",
        "with torch.no_grad():\n",
        "    predicted = model(X_test).detach().numpy()\n",
        "    rmse = np.sqrt(mean_squared_error(y_test, predicted))\n",
        "    print(f'RMSE on the test set: {rmse:.4f}')\n"
      ],
      "metadata": {
        "colab": {
          "base_uri": "https://localhost:8080/"
        },
        "id": "wad4Xmi2Gow3",
        "outputId": "1e30d721-eec5-4332-c739-64456c5ecc5a"
      },
      "execution_count": 19,
      "outputs": [
        {
          "output_type": "stream",
          "name": "stdout",
          "text": [
            "Epoch [100/10000], Loss: 41.5288\n",
            "Epoch [200/10000], Loss: 41.3501\n",
            "Epoch [300/10000], Loss: 41.1680\n",
            "Epoch [400/10000], Loss: 40.9826\n",
            "Epoch [500/10000], Loss: 40.7937\n",
            "Epoch [600/10000], Loss: 40.6015\n",
            "Epoch [700/10000], Loss: 40.4059\n",
            "Epoch [800/10000], Loss: 40.2069\n",
            "Epoch [900/10000], Loss: 40.0046\n",
            "Epoch [1000/10000], Loss: 39.7990\n",
            "Epoch [1100/10000], Loss: 39.5901\n",
            "Epoch [1200/10000], Loss: 39.3781\n",
            "Epoch [1300/10000], Loss: 39.1629\n",
            "Epoch [1400/10000], Loss: 38.9448\n",
            "Epoch [1500/10000], Loss: 38.7236\n",
            "Epoch [1600/10000], Loss: 38.4997\n",
            "Epoch [1700/10000], Loss: 38.2732\n",
            "Epoch [1800/10000], Loss: 38.0441\n",
            "Epoch [1900/10000], Loss: 37.8126\n",
            "Epoch [2000/10000], Loss: 37.5791\n",
            "Epoch [2100/10000], Loss: 37.3435\n",
            "Epoch [2200/10000], Loss: 37.1063\n",
            "Epoch [2300/10000], Loss: 36.8676\n",
            "Epoch [2400/10000], Loss: 36.6277\n",
            "Epoch [2500/10000], Loss: 36.3869\n",
            "Epoch [2600/10000], Loss: 36.1455\n",
            "Epoch [2700/10000], Loss: 35.9038\n",
            "Epoch [2800/10000], Loss: 35.6621\n",
            "Epoch [2900/10000], Loss: 35.4208\n",
            "Epoch [3000/10000], Loss: 35.1802\n",
            "Epoch [3100/10000], Loss: 34.9407\n",
            "Epoch [3200/10000], Loss: 34.7027\n",
            "Epoch [3300/10000], Loss: 34.4664\n",
            "Epoch [3400/10000], Loss: 34.2323\n",
            "Epoch [3500/10000], Loss: 34.0006\n",
            "Epoch [3600/10000], Loss: 33.7718\n",
            "Epoch [3700/10000], Loss: 33.5462\n",
            "Epoch [3800/10000], Loss: 33.3240\n",
            "Epoch [3900/10000], Loss: 33.1054\n",
            "Epoch [4000/10000], Loss: 32.8909\n",
            "Epoch [4100/10000], Loss: 32.6804\n",
            "Epoch [4200/10000], Loss: 32.4744\n",
            "Epoch [4300/10000], Loss: 32.2728\n",
            "Epoch [4400/10000], Loss: 32.0757\n",
            "Epoch [4500/10000], Loss: 31.8833\n",
            "Epoch [4600/10000], Loss: 31.6956\n",
            "Epoch [4700/10000], Loss: 31.5125\n",
            "Epoch [4800/10000], Loss: 31.3340\n",
            "Epoch [4900/10000], Loss: 31.1600\n",
            "Epoch [5000/10000], Loss: 30.9904\n",
            "Epoch [5100/10000], Loss: 30.8251\n",
            "Epoch [5200/10000], Loss: 30.6638\n",
            "Epoch [5300/10000], Loss: 30.5065\n",
            "Epoch [5400/10000], Loss: 30.3528\n",
            "Epoch [5500/10000], Loss: 30.2026\n",
            "Epoch [5600/10000], Loss: 30.0556\n",
            "Epoch [5700/10000], Loss: 29.9117\n",
            "Epoch [5800/10000], Loss: 29.7705\n",
            "Epoch [5900/10000], Loss: 29.6319\n",
            "Epoch [6000/10000], Loss: 29.4956\n",
            "Epoch [6100/10000], Loss: 29.3614\n",
            "Epoch [6200/10000], Loss: 29.2290\n",
            "Epoch [6300/10000], Loss: 29.0984\n",
            "Epoch [6400/10000], Loss: 28.9693\n",
            "Epoch [6500/10000], Loss: 28.8415\n",
            "Epoch [6600/10000], Loss: 28.7149\n",
            "Epoch [6700/10000], Loss: 28.5893\n",
            "Epoch [6800/10000], Loss: 28.4646\n",
            "Epoch [6900/10000], Loss: 28.3407\n",
            "Epoch [7000/10000], Loss: 28.2174\n",
            "Epoch [7100/10000], Loss: 28.0946\n",
            "Epoch [7200/10000], Loss: 27.9723\n",
            "Epoch [7300/10000], Loss: 27.8504\n",
            "Epoch [7400/10000], Loss: 27.7289\n",
            "Epoch [7500/10000], Loss: 27.6075\n",
            "Epoch [7600/10000], Loss: 27.4864\n",
            "Epoch [7700/10000], Loss: 27.3654\n",
            "Epoch [7800/10000], Loss: 27.2446\n",
            "Epoch [7900/10000], Loss: 27.1238\n",
            "Epoch [8000/10000], Loss: 27.0031\n",
            "Epoch [8100/10000], Loss: 26.8825\n",
            "Epoch [8200/10000], Loss: 26.7619\n",
            "Epoch [8300/10000], Loss: 26.6412\n",
            "Epoch [8400/10000], Loss: 26.5206\n",
            "Epoch [8500/10000], Loss: 26.3999\n",
            "Epoch [8600/10000], Loss: 26.2793\n",
            "Epoch [8700/10000], Loss: 26.1586\n",
            "Epoch [8800/10000], Loss: 26.0378\n",
            "Epoch [8900/10000], Loss: 25.9171\n",
            "Epoch [9000/10000], Loss: 25.7963\n",
            "Epoch [9100/10000], Loss: 25.6755\n",
            "Epoch [9200/10000], Loss: 25.5546\n",
            "Epoch [9300/10000], Loss: 25.4338\n",
            "Epoch [9400/10000], Loss: 25.3129\n",
            "Epoch [9500/10000], Loss: 25.1920\n",
            "Epoch [9600/10000], Loss: 25.0711\n",
            "Epoch [9700/10000], Loss: 24.9501\n",
            "Epoch [9800/10000], Loss: 24.8292\n",
            "Epoch [9900/10000], Loss: 24.7083\n",
            "Epoch [10000/10000], Loss: 24.5875\n",
            "RMSE on the test set: 4.4937\n"
          ]
        }
      ]
    },
    {
      "cell_type": "markdown",
      "source": [
        "อย่างไรก็ตาม loss ไม่ลดอาจเป็นเพราะทิศทาง correlation feature x กับ y correlation ไม่มีรายการใดที่เกิน 0.8  ไม่น่าเป็นที่มาของการนำเข้ามาใช้ในการคัดเลือก feature\n",
        "\n",
        "\n",
        "SGD อาจไม่เหมาะกับการค้นหา optimize ควรทำการทดลอง adam เพิ่มเติม\n",
        "\n",
        "learning rate อาจสูงไปแต่ทดสอบใส่ให้น้อยลงก็ไม่ช่วย\n",
        "\n",
        "\n",
        "\n",
        "เมื่อค่า loss ไม่ลดลงตั้งแต่ 100 epoch แรกในการฝึกโมเดลการเรียนรู้ (machine learning model) มีหลายเหตุผลที่อาจเกิดขึ้นได้:\n",
        "\n",
        "1. **Learning Rate ไม่เหมาะสม:** หากค่า learning rate ที่ใช้ในการฝึกโมเดลเป็นค่าที่สูงเกินไป หรือต่ำเกินไป จะทำให้การปรับค่าพารามิเตอร์ของโมเดลไม่เป็นไปตามที่ควร และอาจทำให้ loss ไม่ลดลงตามที่คาดหวังได้ เพื่อแก้ไขปัญหานี้ควรลองปรับค่า learning rate ให้เหมาะสมกับปัญหาและโมเดลที่ใช้.\n",
        "\n",
        "2. **โมเดลไม่เหมาะสม:** โมเดลที่ใช้อาจไม่เหมาะสมสำหรับปัญหาที่กำลังแก้ไข หรืออาจมีขนาดหรือโครงสร้างที่ไม่เหมาะสมกับข้อมูล ในกรณีนี้ควรลองใช้โมเดลที่มีความซับซ้อนมากขึ้นหรือปรับโมเดลใหม่.\n",
        "\n",
        "3. **ข้อมูลไม่เพียงพอ:** หากมีข้อมูลน้อยเกินไปสำหรับปัญหาที่ซับซ้อน โมเดลอาจไม่สามารถเรียนรู้ความสัมพันธ์ในข้อมูลได้อย่างเพียงพอ ซึ่งอาจทำให้ loss ไม่ลดลง.\n",
        "\n",
        "4. **Overfitting:** อาจเกิด overfitting ในรอบแรกของการฝึก โดยที่โมเดลเรียนรู้ข้อมูลในชุดฝึกได้ดีเกินไป แต่ไม่สามารถทำนายข้อมูลนอกชุดฝึกได้ดี เมื่อเริ่มฝึกโมเดล loss จะลดลง แต่หลังจากนั้น loss อาจเพิ่มขึ้นเนื่องจาก overfitting. ควรพิจารณาใช้เทคนิคการลด overfitting เช่น dropout, regularization, หรือ early stopping เพื่อป้องกันปัญหานี้.\n",
        "\n",
        "5. **ความสุ่ม (Randomness):** การฝึกโมเดลที่มีส่วนของความสุ่มอาจทำให้ loss มีการเปลี่ยนแปลงบางครั้ง และค่า loss ไม่ลดลงตามรอบฝึกนั้น ๆ อาจเป็นผลจากความสุ่มในกระบวนการฝึกโมเดล.\n",
        "\n",
        "6. **การตั้งค่าไม่ถูกต้อง:** ค่าพารามิเตอร์อื่น ๆ ที่ใช้ในโมเดลหรือในกระบวนการฝึกอาจต้องการการตั้งค่าที่ถูกต้อง เช่น จำนวนเลเยอร์ การใช้ฟังก์ชันกิจกรรม (activation functions) และอื่น ๆ อาจมีผลต่อการลด loss และควรถูกตรวจสอบและปรับแต่งตามความเหมาะสม.\n",
        "\n",
        "การแก้ไขปัญหา loss ที่ไม่ลดลงตั้งแต่ 100 epoch แรกควรเริ่มด้วยการตรวจสอบและปรับปรุงปัญหาที่อาจทำให้เกิดขึ้น และลองวิเคราะห์ข้อมูลและโมเดลอีกครั้งเพื่อค้นหาวิธีการแก้ไขที่เหมาะสมในกรณีนั้น.\n"
      ],
      "metadata": {
        "id": "_-DElZH0u_FS"
      }
    }
  ]
}